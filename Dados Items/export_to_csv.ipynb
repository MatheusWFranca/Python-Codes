{
 "cells": [
  {
   "cell_type": "code",
   "execution_count": 16,
   "metadata": {},
   "outputs": [],
   "source": [
    "import pandas as pd\n",
    "\n",
    "df = pd.read_fwf('DadosDoItem\\Item.txt', encoding='windows-1252', header=None)\n"
   ]
  },
  {
   "cell_type": "code",
   "execution_count": 17,
   "metadata": {},
   "outputs": [],
   "source": [
    "df = df.iloc[10:]\n",
    "\n",
    "df = df[0].str.split('|', expand=True)\n",
    "\n",
    "df = df.map(lambda x: x.strip() if isinstance(x, str) else x)\n",
    "\n",
    "df = df[\n",
    "    (df[3] == 'Manual') | \n",
    "    (df[3] == 'MRP') | \n",
    "    (df[3] == 'MPS') | \n",
    "    (df[3] == 'SIC')\n",
    "    ]\n",
    "\n",
    "\n",
    "df.columns= [\n",
    "        \"Item\", \n",
    "        \"Descricao\", \n",
    "        \"Tipo Man\", \n",
    "        \"Sist Ordem\", \n",
    "        \"Fornecedor\",\n",
    "        \"Tipo Prod\",\n",
    "        \"Chave Busca\",\n",
    "        \"Revisão\",\n",
    "        \"Cod Sinalizacao\",\n",
    "        \"Grupo Item\",\n",
    "        \"Comp\",\n",
    "        \"Data Inicial\",\n",
    "        \"Engenheiro\",\n",
    "        \"Fam\",\n",
    "        \"Descricao Fam\",\n",
    "        \"Ult Tran Estoque\",\n",
    "        \"Tipo Inventario\"\n",
    "        ]\n",
    "\n",
    "df.to_csv(\"output.csv\", encoding='windows-1252', index=False)\n"
   ]
  },
  {
   "cell_type": "markdown",
   "metadata": {},
   "source": []
  }
 ],
 "metadata": {
  "kernelspec": {
   "display_name": "Python 3",
   "language": "python",
   "name": "python3"
  },
  "language_info": {
   "codemirror_mode": {
    "name": "ipython",
    "version": 3
   },
   "file_extension": ".py",
   "mimetype": "text/x-python",
   "name": "python",
   "nbconvert_exporter": "python",
   "pygments_lexer": "ipython3",
   "version": "3.11.4"
  }
 },
 "nbformat": 4,
 "nbformat_minor": 2
}
